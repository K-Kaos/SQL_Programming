{
 "cells": [
  {
   "cell_type": "code",
   "execution_count": 17,
   "id": "5d394658",
   "metadata": {},
   "outputs": [],
   "source": [
    "import pandas as pd\n",
    "vgame_sales = pd.read_csv('C:/Users/LGE/videogameData/vgsales.csv')"
   ]
  },
  {
   "cell_type": "code",
   "execution_count": 73,
   "id": "a68f742d",
   "metadata": {},
   "outputs": [
    {
     "data": {
      "text/plain": [
       "(16327, 11)"
      ]
     },
     "execution_count": 73,
     "metadata": {},
     "output_type": "execute_result"
    }
   ],
   "source": [
    "vgame_sales.shape"
   ]
  },
  {
   "cell_type": "code",
   "execution_count": 68,
   "id": "c9ee50d7",
   "metadata": {},
   "outputs": [],
   "source": [
    "#결측치, 이상치 확인\n",
    "year = vgame_sales.Year.unique()\n",
    "temp = []\n",
    "for i in year:\n",
    "    if i<=1900:\n",
    "        print(i)\n",
    "        temp.append(i)"
   ]
  },
  {
   "cell_type": "code",
   "execution_count": 69,
   "id": "bda438e3",
   "metadata": {},
   "outputs": [
    {
     "name": "stdout",
     "output_type": "stream",
     "text": [
      "[2006. 1985. 2008. 2009. 1996. 1989. 1984. 2005. 1999. 2007. 2010. 2013.\n",
      " 2004. 1990. 1988. 2002. 2001. 2011. 1998. 2015. 2012. 2014. 1992. 1997.\n",
      " 1993. 1994. 1982. 2003. 1986. 2000. 1995. 2016. 1991. 1981. 1987. 1980.\n",
      " 1983. 2020. 2017.]\n"
     ]
    }
   ],
   "source": [
    "print(year);"
   ]
  },
  {
   "cell_type": "code",
   "execution_count": 65,
   "id": "ba178814",
   "metadata": {},
   "outputs": [
    {
     "name": "stdout",
     "output_type": "stream",
     "text": [
      "[]\n"
     ]
    }
   ],
   "source": [
    "print(temp);"
   ]
  },
  {
   "cell_type": "code",
   "execution_count": 67,
   "id": "1c0ddcc4",
   "metadata": {},
   "outputs": [],
   "source": [
    "vgame_sales.dropna(subset=['Year'],inplace=True)"
   ]
  },
  {
   "cell_type": "code",
   "execution_count": 66,
   "id": "d7476e23",
   "metadata": {},
   "outputs": [
    {
     "name": "stdout",
     "output_type": "stream",
     "text": [
      "['Sports' 'Platform' 'Racing' 'Role-Playing' 'Puzzle' 'Misc' 'Shooter'\n",
      " 'Simulation' 'Action' 'Fighting' 'Adventure' 'Strategy']\n"
     ]
    }
   ],
   "source": [
    "#결측치 확인\n",
    "genre_list = vgame_sales.Genre.unique()\n",
    "print(genre_list)"
   ]
  },
  {
   "cell_type": "code",
   "execution_count": 72,
   "id": "49115a55",
   "metadata": {},
   "outputs": [
    {
     "name": "stdout",
     "output_type": "stream",
     "text": [
      "['Wii' 'NES' 'GB' 'DS' 'X360' 'PS3' 'PS2' 'SNES' 'GBA' '3DS' 'PS4' 'N64'\n",
      " 'PS' 'XB' 'PC' '2600' 'PSP' 'XOne' 'GC' 'WiiU' 'GEN' 'DC' 'PSV' 'SAT'\n",
      " 'SCD' 'WS' 'NG' 'TG16' '3DO' 'GG' 'PCFX']\n"
     ]
    }
   ],
   "source": [
    "platform_list = vgame_sales.Platform.unique()\n",
    "print(platform_list)"
   ]
  },
  {
   "cell_type": "code",
   "execution_count": 74,
   "id": "25983fd9",
   "metadata": {},
   "outputs": [],
   "source": [
    "vgame_sales.to_csv('C:/Users/LGE/videogameData/vgame_sales.csv',index=False)"
   ]
  },
  {
   "cell_type": "code",
   "execution_count": 39,
   "id": "c66af4d0",
   "metadata": {},
   "outputs": [],
   "source": [
    "vgame_review = pd.read_csv('C:/Users/LGE/videogameData/games.csv')"
   ]
  },
  {
   "cell_type": "code",
   "execution_count": 75,
   "id": "189dc76a",
   "metadata": {},
   "outputs": [
    {
     "data": {
      "text/plain": [
       "(1509, 14)"
      ]
     },
     "execution_count": 75,
     "metadata": {},
     "output_type": "execute_result"
    }
   ],
   "source": [
    "vgame_review.shape"
   ]
  },
  {
   "cell_type": "code",
   "execution_count": 80,
   "id": "15ff5aba",
   "metadata": {},
   "outputs": [
    {
     "data": {
      "text/plain": [
       "Index(['Name', 'Release Date', 'Team', 'Rating', 'Times Listed',\n",
       "       'Number of Reviews', 'Genres', 'Summary', 'Reviews', 'Plays', 'Playing',\n",
       "       'Backlogs', 'Wishlist', 'Year'],\n",
       "      dtype='object')"
      ]
     },
     "execution_count": 80,
     "metadata": {},
     "output_type": "execute_result"
    }
   ],
   "source": [
    "vgame_review.columns"
   ]
  },
  {
   "cell_type": "code",
   "execution_count": 42,
   "id": "475e825c",
   "metadata": {},
   "outputs": [],
   "source": [
    "#칼럼명 수정\n",
    "vgame_review = vgame_review.rename(columns={'Title':'Name'})"
   ]
  },
  {
   "cell_type": "code",
   "execution_count": 43,
   "id": "3754e1c9",
   "metadata": {},
   "outputs": [],
   "source": [
    "#빈 칼럼 삭제\n",
    "vgame_review.drop(['Unnamed: 0'],axis=1,inplace=True)"
   ]
  },
  {
   "cell_type": "code",
   "execution_count": 77,
   "id": "8b37a7a2",
   "metadata": {},
   "outputs": [],
   "source": [
    "#결측치 제거\n",
    "vgame_review = vgame_review[vgame_review['Release Date'] != 'releases on TBD']"
   ]
  },
  {
   "cell_type": "code",
   "execution_count": 52,
   "id": "f3235a4f",
   "metadata": {},
   "outputs": [],
   "source": [
    "#데이터 형식 년도로 Year 칼럼 추가\n",
    "vgame_review['Year'] = pd.to_datetime(vgame_review['Release Date'], format='%b %d, %Y').dt.year"
   ]
  },
  {
   "cell_type": "code",
   "execution_count": 87,
   "id": "48eea8f6",
   "metadata": {},
   "outputs": [
    {
     "name": "stdout",
     "output_type": "stream",
     "text": [
      "[4.5 4.3 4.4 4.2 3.  3.7 4.1 3.8 3.3 4.6 2.6 3.9 4.  2.7 3.6 3.5 3.2 2.8\n",
      " 2.1 3.4 3.1 2.9 2.5 1.9 2.4 2.3 1.2 2.2 1.6 1.5 2.  1.4 0.7 1.8]\n"
     ]
    }
   ],
   "source": [
    "#결측치 제거\n",
    "rating_list = vgame_review.Rating.unique()\n",
    "print(rating_list)"
   ]
  },
  {
   "cell_type": "code",
   "execution_count": 86,
   "id": "53e09cf2",
   "metadata": {},
   "outputs": [],
   "source": [
    "vgame_review.dropna(subset=['Rating'],inplace=True)"
   ]
  },
  {
   "cell_type": "code",
   "execution_count": 90,
   "id": "f3c10013",
   "metadata": {},
   "outputs": [
    {
     "data": {
      "text/html": [
       "<div>\n",
       "<style scoped>\n",
       "    .dataframe tbody tr th:only-of-type {\n",
       "        vertical-align: middle;\n",
       "    }\n",
       "\n",
       "    .dataframe tbody tr th {\n",
       "        vertical-align: top;\n",
       "    }\n",
       "\n",
       "    .dataframe thead th {\n",
       "        text-align: right;\n",
       "    }\n",
       "</style>\n",
       "<table border=\"1\" class=\"dataframe\">\n",
       "  <thead>\n",
       "    <tr style=\"text-align: right;\">\n",
       "      <th></th>\n",
       "      <th>Name</th>\n",
       "      <th>Release Date</th>\n",
       "      <th>Team</th>\n",
       "      <th>Rating</th>\n",
       "      <th>Times Listed</th>\n",
       "      <th>Number of Reviews</th>\n",
       "      <th>Genres</th>\n",
       "      <th>Summary</th>\n",
       "      <th>Reviews</th>\n",
       "      <th>Plays</th>\n",
       "      <th>Playing</th>\n",
       "      <th>Backlogs</th>\n",
       "      <th>Wishlist</th>\n",
       "      <th>Year</th>\n",
       "    </tr>\n",
       "  </thead>\n",
       "  <tbody>\n",
       "    <tr>\n",
       "      <th>1245</th>\n",
       "      <td>NEET Girl Date Night</td>\n",
       "      <td>Oct 21, 2022</td>\n",
       "      <td>NaN</td>\n",
       "      <td>2.7</td>\n",
       "      <td>21</td>\n",
       "      <td>21</td>\n",
       "      <td>['Visual Novel']</td>\n",
       "      <td>Your friend sets you up on a date with his NEE...</td>\n",
       "      <td>['this sucked. \"Omg she is literally me\" is no...</td>\n",
       "      <td>106</td>\n",
       "      <td>1</td>\n",
       "      <td>44</td>\n",
       "      <td>42</td>\n",
       "      <td>2022</td>\n",
       "    </tr>\n",
       "  </tbody>\n",
       "</table>\n",
       "</div>"
      ],
      "text/plain": [
       "                      Name  Release Date Team  Rating Times Listed  \\\n",
       "1245  NEET Girl Date Night  Oct 21, 2022  NaN     2.7           21   \n",
       "\n",
       "     Number of Reviews            Genres  \\\n",
       "1245                21  ['Visual Novel']   \n",
       "\n",
       "                                                Summary  \\\n",
       "1245  Your friend sets you up on a date with his NEE...   \n",
       "\n",
       "                                                Reviews Plays Playing  \\\n",
       "1245  ['this sucked. \"Omg she is literally me\" is no...   106       1   \n",
       "\n",
       "     Backlogs Wishlist  Year  \n",
       "1245       44       42  2022  "
      ]
     },
     "execution_count": 90,
     "metadata": {},
     "output_type": "execute_result"
    }
   ],
   "source": [
    "vgame_review[vgame_review.isna().any(axis=1)] #Team 칼럼은 사용하지 않을것이라 따로 처리하지 않음"
   ]
  },
  {
   "cell_type": "code",
   "execution_count": 96,
   "id": "7adee8a2",
   "metadata": {},
   "outputs": [],
   "source": [
    "vgame_review['Num of Reviews'] = vgame_review['Number of Reviews'].apply(lambda x: float(x.replace('K',''))*1000 if 'K' in x else float(x))"
   ]
  },
  {
   "cell_type": "code",
   "execution_count": 97,
   "id": "609bacd6",
   "metadata": {},
   "outputs": [],
   "source": [
    "vgame_review['Num of Plays'] = vgame_review['Plays'].apply(lambda x: float(x.replace('K',''))*1000 if 'K' in x else float(x))"
   ]
  },
  {
   "cell_type": "code",
   "execution_count": 98,
   "id": "29a453bb",
   "metadata": {},
   "outputs": [],
   "source": [
    "#사용할 칼럼만 선택\n",
    "new_vgame_review = vgame_review.loc[:,['Name','Year','Rating','Num of Reviews','Genres','Reviews','Num of Plays']]"
   ]
  },
  {
   "cell_type": "code",
   "execution_count": 81,
   "id": "99dedadb",
   "metadata": {},
   "outputs": [],
   "source": [
    "#vgame_review.to_csv('C:/Users/LGE/videogameData/vgame_review.csv',index=False)"
   ]
  },
  {
   "cell_type": "code",
   "execution_count": 99,
   "id": "b941cb30",
   "metadata": {},
   "outputs": [],
   "source": [
    "new_vgame_review.to_csv('C:/Users/LGE/videogameData/vgame_review.csv',index=False)"
   ]
  },
  {
   "cell_type": "code",
   "execution_count": 100,
   "id": "476cf3c0",
   "metadata": {},
   "outputs": [
    {
     "data": {
      "text/plain": [
       "(1497, 7)"
      ]
     },
     "execution_count": 100,
     "metadata": {},
     "output_type": "execute_result"
    }
   ],
   "source": [
    "new_vgame_review.shape"
   ]
  },
  {
   "cell_type": "code",
   "execution_count": 109,
   "id": "81a962ef",
   "metadata": {},
   "outputs": [
    {
     "name": "stdout",
     "output_type": "stream",
     "text": [
      "973\n"
     ]
    }
   ],
   "source": [
    "merge_test = pd.merge(vgame_sales,new_vgame_review,how='inner')\n",
    "print(len(merge_test))"
   ]
  },
  {
   "cell_type": "code",
   "execution_count": 106,
   "id": "590e454a",
   "metadata": {},
   "outputs": [],
   "source": [
    "merge_test.to_csv('C:/Users/LGE/videogameData/merge_test.csv',index=False)"
   ]
  },
  {
   "cell_type": "code",
   "execution_count": 107,
   "id": "2b016444",
   "metadata": {},
   "outputs": [
    {
     "name": "stdout",
     "output_type": "stream",
     "text": [
      "736\n"
     ]
    }
   ],
   "source": [
    "#중복 제거\n",
    "merge_test.drop_duplicates(subset=['Name', 'Platform','Year'], keep='first', inplace=True)\n",
    "print(len(merge_test))"
   ]
  },
  {
   "cell_type": "code",
   "execution_count": 108,
   "id": "e38cf52b",
   "metadata": {},
   "outputs": [],
   "source": [
    "merge_test.to_csv('C:/Users/LGE/videogameData/merge_test2.csv',index=False)"
   ]
  },
  {
   "cell_type": "code",
   "execution_count": 110,
   "id": "875bd36a",
   "metadata": {},
   "outputs": [
    {
     "name": "stdout",
     "output_type": "stream",
     "text": [
      "416\n"
     ]
    }
   ],
   "source": [
    "#중복 제거2\n",
    "merge_test.drop_duplicates(subset=['Name','Year'], keep='first', inplace=True)\n",
    "print(len(merge_test))"
   ]
  },
  {
   "cell_type": "code",
   "execution_count": 111,
   "id": "da94aee3",
   "metadata": {},
   "outputs": [],
   "source": [
    "merge_test.to_csv('C:/Users/LGE/videogameData/merge_test3.csv',index=False)"
   ]
  },
  {
   "cell_type": "code",
   "execution_count": null,
   "id": "86cf5f65",
   "metadata": {},
   "outputs": [],
   "source": []
  }
 ],
 "metadata": {
  "kernelspec": {
   "display_name": "Python 3 (ipykernel)",
   "language": "python",
   "name": "python3"
  },
  "language_info": {
   "codemirror_mode": {
    "name": "ipython",
    "version": 3
   },
   "file_extension": ".py",
   "mimetype": "text/x-python",
   "name": "python",
   "nbconvert_exporter": "python",
   "pygments_lexer": "ipython3",
   "version": "3.9.13"
  }
 },
 "nbformat": 4,
 "nbformat_minor": 5
}
